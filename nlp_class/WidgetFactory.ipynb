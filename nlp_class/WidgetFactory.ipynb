{
 "cells": [
  {
   "cell_type": "code",
   "execution_count": 2,
   "metadata": {},
   "outputs": [
    {
     "name": "stdout",
     "output_type": "stream",
     "text": [
      "0 schedule Mix\n",
      "0 Mix running for  A + B\n",
      "2 Mix completed for  A + B\n",
      "2 schedule Injection-Mold\n",
      "2 Injection-Mold running for  A-B\n",
      "2 Injection-Mold running for  A-B\n",
      "2 Injection-Mold running for  A-B\n",
      "2 schedule Mix\n",
      "2 Mix running for  A + B\n",
      "4.050000000000001 Mix completed for  A + B\n",
      "7.000000000000001 Injection-Mold completed for  A-B\n",
      "7.010000000000001 Injection-Mold completed for  A-B\n",
      "7.0200000000000005 Injection-Mold completed for  A-B\n",
      "7 schedule Injection-Mold\n",
      "7 Injection-Mold running for  A-B\n",
      "7 Injection-Mold running for  A-B\n",
      "7 Injection-Mold running for  A-B\n",
      "12.049999999999983 Injection-Mold completed for  A-B\n",
      "12.059999999999983 Injection-Mold completed for  A-B\n",
      "12.069999999999983 Injection-Mold completed for  A-B\n"
     ]
    }
   ],
   "source": [
    "import widgetfactory.factory as wf \n",
    "import pandas as pd\n",
    "\n",
    "steps = [{\"name\": \"Mix\",\n",
    "          \"capacity\": 1,\n",
    "          \"length\": 2,\n",
    "           \"input\": [{\"type\": \"polymer-powder\", \"qty\": 0.5},\n",
    "                     {\"type\": \"solvent\", \"qty\": 3}],\n",
    "           \"output\": {\"type\": \"liquid-plastic\", \"qty\": 3}},\n",
    "          {\"name\": \"Injection-Mold\",\n",
    "           \"capacity\": 3,\n",
    "           \"length\": 5,\n",
    "           \"input\": [{\"type\": \"liquid-plastic\", \"qty\": 1}],\n",
    "           \"output\": {\"type\": \"widget\", \"qty\": 100}}]\n",
    "batches = [{\"name\": \"A\", \"type\": \"polymer-powder\"},\n",
    "           {\"name\": \"B\", \"type\": \"solvent\", \"size\": 6}] \n",
    "steps = pd.DataFrame(steps)\n",
    "factory = wf.Factory(\"widgets\", steps, batches, verbose=True)\n",
    "factory.run(until=15) \n",
    "# factory.cleanup()"
   ]
  },
  {
   "cell_type": "code",
   "execution_count": null,
   "metadata": {},
   "outputs": [],
   "source": []
  }
 ],
 "metadata": {
  "kernelspec": {
   "display_name": "Python 3",
   "language": "python",
   "name": "python3"
  },
  "language_info": {
   "codemirror_mode": {
    "name": "ipython",
    "version": 3
   },
   "file_extension": ".py",
   "mimetype": "text/x-python",
   "name": "python",
   "nbconvert_exporter": "python",
   "pygments_lexer": "ipython3",
   "version": "3.7.3"
  }
 },
 "nbformat": 4,
 "nbformat_minor": 2
}
