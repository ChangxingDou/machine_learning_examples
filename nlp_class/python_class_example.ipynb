{
 "cells": [
  {
   "cell_type": "code",
   "execution_count": 13,
   "metadata": {},
   "outputs": [],
   "source": [
    "import webbrowser"
   ]
  },
  {
   "cell_type": "code",
   "execution_count": 25,
   "metadata": {},
   "outputs": [],
   "source": [
    "class Movie:\n",
    "    \"\"\"this is Alex's first class\"\"\"\n",
    "    def __init__(self,title,trailer_youtube_url):\n",
    "        self.title = title\n",
    "        self.trailer_youtbe_url = trailer_youtube_url\n",
    "    \n",
    "    def show_trailer(self):\n",
    "        \"\"\"show the trailer\"\"\"\n",
    "        webbrowser.open(self.trailer_youtbe_url)"
   ]
  },
  {
   "cell_type": "code",
   "execution_count": 27,
   "metadata": {},
   "outputs": [],
   "source": [
    "avatar = Movie(\n",
    "    title = 'Avatar'\n",
    "    ,trailer_youtube_url = 'https://www.youtube.com/watch?v=6ziBFh3V1aM'\n",
    ")"
   ]
  },
  {
   "cell_type": "code",
   "execution_count": 21,
   "metadata": {},
   "outputs": [],
   "source": [
    "avatar.show_trailer()"
   ]
  },
  {
   "cell_type": "code",
   "execution_count": 32,
   "metadata": {},
   "outputs": [
    {
     "name": "stdout",
     "output_type": "stream",
     "text": [
      "Movie\n",
      "this is Alex's first class\n",
      "__main__\n",
      "show the trailer\n"
     ]
    }
   ],
   "source": [
    "print(Movie.__name__)\n",
    "print(Movie.__doc__)\n",
    "print(Movie.__module__)\n",
    "print(Movie.show_trailer.__doc__)"
   ]
  },
  {
   "cell_type": "code",
   "execution_count": 26,
   "metadata": {},
   "outputs": [
    {
     "data": {
      "text/plain": [
       "'show the trailer'"
      ]
     },
     "execution_count": 26,
     "metadata": {},
     "output_type": "execute_result"
    }
   ],
   "source": []
  }
 ],
 "metadata": {
  "kernelspec": {
   "display_name": "Python 3",
   "language": "python",
   "name": "python3"
  },
  "language_info": {
   "codemirror_mode": {
    "name": "ipython",
    "version": 3
   },
   "file_extension": ".py",
   "mimetype": "text/x-python",
   "name": "python",
   "nbconvert_exporter": "python",
   "pygments_lexer": "ipython3",
   "version": "3.7.3"
  }
 },
 "nbformat": 4,
 "nbformat_minor": 2
}
