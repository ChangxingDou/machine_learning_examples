{
 "cells": [
  {
   "cell_type": "code",
   "execution_count": 52,
   "metadata": {},
   "outputs": [],
   "source": [
    "# libraries\n",
    "from sklearn.naive_bayes import MultinomialNB\n",
    "from sklearn.ensemble import AdaBoostClassifier\n",
    "import pandas as pd\n",
    "import numpy as np"
   ]
  },
  {
   "cell_type": "code",
   "execution_count": 29,
   "metadata": {},
   "outputs": [
    {
     "name": "stdout",
     "output_type": "stream",
     "text": [
      "[[0.000e+00 0.000e+00 0.000e+00 0.000e+00 0.000e+00 0.000e+00 0.000e+00\n",
      "  0.000e+00 0.000e+00 0.000e+00 0.000e+00 0.000e+00 0.000e+00 0.000e+00\n",
      "  0.000e+00 0.000e+00 0.000e+00 0.000e+00 8.000e-01 0.000e+00 0.000e+00\n",
      "  0.000e+00 0.000e+00 8.000e-01 0.000e+00 0.000e+00 8.000e-01 0.000e+00\n",
      "  0.000e+00 0.000e+00 0.000e+00 0.000e+00 0.000e+00 0.000e+00 0.000e+00\n",
      "  0.000e+00 0.000e+00 0.000e+00 0.000e+00 0.000e+00 0.000e+00 0.000e+00\n",
      "  0.000e+00 8.000e-01 8.000e-01 0.000e+00 0.000e+00 0.000e+00 0.000e+00\n",
      "  0.000e+00 0.000e+00 0.000e+00 2.650e-01 0.000e+00 1.347e+00 3.000e+00\n",
      "  3.100e+01 0.000e+00]\n",
      " [0.000e+00 0.000e+00 1.000e-01 0.000e+00 1.000e-01 1.000e-01 2.000e-01\n",
      "  2.000e-01 1.000e-01 0.000e+00 0.000e+00 2.000e-01 1.000e-01 2.000e-01\n",
      "  0.000e+00 0.000e+00 0.000e+00 0.000e+00 0.000e+00 0.000e+00 0.000e+00\n",
      "  0.000e+00 0.000e+00 0.000e+00 3.000e+00 0.000e+00 0.000e+00 0.000e+00\n",
      "  0.000e+00 0.000e+00 0.000e+00 0.000e+00 0.000e+00 0.000e+00 0.000e+00\n",
      "  3.100e-01 0.000e+00 0.000e+00 0.000e+00 0.000e+00 0.000e+00 0.000e+00\n",
      "  0.000e+00 0.000e+00 0.000e+00 0.000e+00 0.000e+00 2.000e-01 1.300e-02\n",
      "  9.700e-02 0.000e+00 0.000e+00 2.700e-02 0.000e+00 2.214e+00 2.200e+01\n",
      "  4.230e+02 0.000e+00]\n",
      " [3.900e-01 0.000e+00 1.300e-01 0.000e+00 1.300e-01 0.000e+00 0.000e+00\n",
      "  0.000e+00 1.300e-01 0.000e+00 1.300e-01 1.300e-01 0.000e+00 0.000e+00\n",
      "  0.000e+00 1.300e-01 0.000e+00 0.000e+00 3.850e+00 0.000e+00 1.860e+00\n",
      "  0.000e+00 0.000e+00 0.000e+00 0.000e+00 0.000e+00 0.000e+00 0.000e+00\n",
      "  0.000e+00 0.000e+00 0.000e+00 0.000e+00 0.000e+00 0.000e+00 0.000e+00\n",
      "  0.000e+00 0.000e+00 0.000e+00 0.000e+00 0.000e+00 0.000e+00 0.000e+00\n",
      "  0.000e+00 0.000e+00 0.000e+00 0.000e+00 0.000e+00 0.000e+00 0.000e+00\n",
      "  6.600e-02 0.000e+00 0.000e+00 0.000e+00 2.200e-02 1.514e+00 2.100e+01\n",
      "  1.590e+02 0.000e+00]\n",
      " [9.000e-02 1.800e-01 3.600e-01 0.000e+00 9.000e-02 0.000e+00 9.000e-02\n",
      "  0.000e+00 5.500e-01 2.700e-01 9.000e-02 8.300e-01 3.600e-01 0.000e+00\n",
      "  0.000e+00 0.000e+00 0.000e+00 9.000e-02 3.690e+00 5.500e-01 1.560e+00\n",
      "  0.000e+00 0.000e+00 3.600e-01 0.000e+00 0.000e+00 0.000e+00 0.000e+00\n",
      "  0.000e+00 0.000e+00 0.000e+00 0.000e+00 0.000e+00 0.000e+00 0.000e+00\n",
      "  9.000e-02 0.000e+00 0.000e+00 0.000e+00 0.000e+00 0.000e+00 0.000e+00\n",
      "  0.000e+00 0.000e+00 9.000e-02 0.000e+00 0.000e+00 0.000e+00 0.000e+00\n",
      "  5.600e-02 0.000e+00 3.410e-01 8.500e-02 0.000e+00 7.273e+00 1.030e+02\n",
      "  1.171e+03 1.000e+00]\n",
      " [1.700e-01 2.600e-01 1.210e+00 0.000e+00 4.300e-01 6.000e-01 4.300e-01\n",
      "  2.600e-01 6.900e-01 5.200e-01 2.600e-01 1.300e+00 1.700e-01 0.000e+00\n",
      "  6.000e-01 6.900e-01 8.000e-02 1.470e+00 2.430e+00 1.700e-01 1.040e+00\n",
      "  0.000e+00 9.500e-01 1.700e-01 0.000e+00 0.000e+00 0.000e+00 0.000e+00\n",
      "  0.000e+00 0.000e+00 0.000e+00 0.000e+00 0.000e+00 0.000e+00 0.000e+00\n",
      "  0.000e+00 0.000e+00 0.000e+00 0.000e+00 8.000e-02 0.000e+00 0.000e+00\n",
      "  0.000e+00 0.000e+00 8.000e-02 0.000e+00 0.000e+00 0.000e+00 0.000e+00\n",
      "  1.070e-01 0.000e+00 2.560e-01 2.420e-01 1.300e-02 6.142e+00 5.830e+02\n",
      "  1.339e+03 1.000e+00]]\n",
      "<class 'numpy.ndarray'>\n"
     ]
    },
    {
     "name": "stderr",
     "output_type": "stream",
     "text": [
      "C:\\ProgramData\\Anaconda3\\lib\\site-packages\\ipykernel_launcher.py:2: FutureWarning: Method .as_matrix will be removed in a future version. Use .values instead.\n",
      "  \n"
     ]
    }
   ],
   "source": [
    "# read data\n",
    "data = pd.read_csv('spambase.data').as_matrix()\n",
    "np.random.shuffle(data)\n",
    "print(data[:5])\n",
    "print(type(data))"
   ]
  },
  {
   "cell_type": "code",
   "execution_count": 51,
   "metadata": {},
   "outputs": [
    {
     "name": "stdout",
     "output_type": "stream",
     "text": [
      "Classification rate for NB: 0.87\n"
     ]
    }
   ],
   "source": [
    "X = data[:, :48]\n",
    "Y = data[:, -1]\n",
    "Xtrain = X[:-100,]\n",
    "Ytrain = Y[:-100,]\n",
    "Xtest = X[-100:,]\n",
    "Ytest = Y[-100:,]"
   ]
  },
  {
   "cell_type": "code",
   "execution_count": 56,
   "metadata": {},
   "outputs": [
    {
     "name": "stdout",
     "output_type": "stream",
     "text": [
      "Classification rate for NB: 0.87\n"
     ]
    }
   ],
   "source": [
    "model = MultinomialNB()\n",
    "model.fit(Xtrain, Ytrain)\n",
    "model.score(Xtest,Ytest)\n",
    "print(\"Classification rate for NB:\",model.score(Xtest,Ytest))"
   ]
  },
  {
   "cell_type": "code",
   "execution_count": 55,
   "metadata": {},
   "outputs": [
    {
     "name": "stdout",
     "output_type": "stream",
     "text": [
      "Classification rate for NB: 0.91\n"
     ]
    }
   ],
   "source": [
    "model = AdaBoostClassifier()\n",
    "model.fit(Xtrain, Ytrain)\n",
    "model.score(Xtest,Ytest)\n",
    "print(\"Classification rate for NB:\",model.score(Xtest,Ytest))"
   ]
  },
  {
   "cell_type": "code",
   "execution_count": null,
   "metadata": {},
   "outputs": [],
   "source": []
  }
 ],
 "metadata": {
  "kernelspec": {
   "display_name": "Python 3",
   "language": "python",
   "name": "python3"
  },
  "language_info": {
   "codemirror_mode": {
    "name": "ipython",
    "version": 3
   },
   "file_extension": ".py",
   "mimetype": "text/x-python",
   "name": "python",
   "nbconvert_exporter": "python",
   "pygments_lexer": "ipython3",
   "version": "3.7.3"
  }
 },
 "nbformat": 4,
 "nbformat_minor": 2
}
