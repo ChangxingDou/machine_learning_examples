{
 "cells": [
  {
   "cell_type": "markdown",
   "metadata": {},
   "source": [
    "# 1.0 Load Packages"
   ]
  },
  {
   "cell_type": "code",
   "execution_count": 306,
   "metadata": {},
   "outputs": [],
   "source": [
    "import numpy as np\n",
    "import pandas as pd\n",
    "import matplotlib.pyplot as plt\n",
    "from sklearn.model_selection import train_test_split\n",
    "from sklearn.naive_bayes import MultinomialNB\n",
    "from sklearn.linear_model import LogisticRegression\n",
    "from sklearn.metrics import roc_auc_score, classification_report\n",
    "from sklearn.svm import SVC\n",
    "from wordcloud import WordCloud\n",
    "from gensim.models.doc2vec import Doc2Vec, TaggedDocument"
   ]
  },
  {
   "cell_type": "markdown",
   "metadata": {},
   "source": [
    "# 2.0 Load Data"
   ]
  },
  {
   "cell_type": "code",
   "execution_count": 208,
   "metadata": {},
   "outputs": [
    {
     "name": "stdout",
     "output_type": "stream",
     "text": [
      "(5572, 5)\n",
      "<class 'pandas.core.frame.DataFrame'>\n",
      "RangeIndex: 5572 entries, 0 to 5571\n",
      "Data columns (total 3 columns):\n",
      "index     5572 non-null int64\n",
      "labels    5572 non-null object\n",
      "text      5572 non-null object\n",
      "dtypes: int64(1), object(2)\n",
      "memory usage: 130.7+ KB\n",
      "None\n",
      "             index\n",
      "count  5572.000000\n",
      "mean   2785.500000\n",
      "std    1608.642181\n",
      "min       0.000000\n",
      "25%    1392.750000\n",
      "50%    2785.500000\n",
      "75%    4178.250000\n",
      "max    5571.000000\n",
      "   index labels                                               text\n",
      "0      0    ham  Go until jurong point, crazy.. Available only ...\n",
      "1      1    ham                      Ok lar... Joking wif u oni...\n",
      "2      2   spam  Free entry in 2 a wkly comp to win FA Cup fina...\n",
      "3      3    ham  U dun say so early hor... U c already then say...\n",
      "4      4    ham  Nah I don't think he goes to usf, he lives aro...\n"
     ]
    }
   ],
   "source": [
    "# data from:\n",
    "# https://www.kaggle.com/uciml/sms-spam-collection-dataset\n",
    "# file contains some invalid chars\n",
    "df = pd.read_csv('spam.csv', encoding='ISO-8859-1')\n",
    "print(df.shape)\n",
    "df = df.drop(['Unnamed: 2','Unnamed: 3','Unnamed: 4'],axis=1)\n",
    "df.columns = ['labels','text']\n",
    "df.reset_index(inplace=True)\n",
    "print(df.info())\n",
    "print(df.describe())\n",
    "print(df.head())"
   ]
  },
  {
   "cell_type": "code",
   "execution_count": 209,
   "metadata": {},
   "outputs": [],
   "source": [
    "# mapping label\n",
    "tags_index = {'ham':0, 'spam':1}\n",
    "df['label_mapped'] = df['labels'].map(tags_index)\n",
    "Y = df['label_mapped']"
   ]
  },
  {
   "cell_type": "markdown",
   "metadata": {},
   "source": [
    "# 3.0 Tokenization"
   ]
  },
  {
   "cell_type": "code",
   "execution_count": 216,
   "metadata": {},
   "outputs": [],
   "source": [
    "from nltk.stem import WordNetLemmatizer\n",
    "from nltk.corpus import stopwords\n",
    "from nltk.tokenize import word_tokenize\n",
    "from nltk import ngrams\n",
    "\n",
    "## Define Stop Words\n",
    "stopwords = stopwords.words('english')\n",
    "# Add additional stopwords:\n",
    "add_stopwords = ['ha','wa','even','one','doe']\n",
    "stopwords = stopwords + add_stopwords\n",
    "\n",
    "## Define Lemmatizer\n",
    "wordnet_lemmatizer = WordNetLemmatizer()\n",
    "\n",
    "## Define customized preprocessor\n",
    "def my_preprocessor(s):\n",
    "    s = s.lower() # downcase\n",
    "    tokens = word_tokenize(s) # split string into words (tokens)\n",
    "    tokens = [t for t in tokens if t.isalnum()] # remove all punctuations\n",
    "    tokens = [t for t in tokens if len(t) > 2] # remove short words, they're probably not useful\n",
    "    tokens = [wordnet_lemmatizer.lemmatize(t) for t in tokens] # put words into base form\n",
    "    tokens = [t for t in tokens if t not in stopwords] # remove stopwords\n",
    "#     bigrams = ngrams(tokens,2)\n",
    "#     text = ' '.join(tokens)\n",
    "    return tokens\n",
    "\n",
    "tokenized = [my_preprocessor(text) for text in df['text']]"
   ]
  },
  {
   "cell_type": "code",
   "execution_count": 219,
   "metadata": {},
   "outputs": [],
   "source": [
    "df['tokens'] = tokenized"
   ]
  },
  {
   "cell_type": "code",
   "execution_count": 220,
   "metadata": {},
   "outputs": [
    {
     "name": "stdout",
     "output_type": "stream",
     "text": [
      "   index labels                                               text  \\\n",
      "0      0    ham  Go until jurong point, crazy.. Available only ...   \n",
      "\n",
      "   label_mapped                                             tokens  \n",
      "0             0  [jurong, point, available, bugis, great, world...  \n"
     ]
    }
   ],
   "source": [
    "print(df.head(1))"
   ]
  },
  {
   "cell_type": "markdown",
   "metadata": {},
   "source": [
    "# 4.0 Train Test Split"
   ]
  },
  {
   "cell_type": "code",
   "execution_count": 277,
   "metadata": {},
   "outputs": [],
   "source": [
    "X_train_doc, X_test_doc, y_train, y_test = train_test_split(df,Y,test_size=0.33,random_state = 711)"
   ]
  },
  {
   "cell_type": "code",
   "execution_count": 278,
   "metadata": {},
   "outputs": [],
   "source": [
    "train_documents = [TaggedDocument(words= doc, tags= [i]) for i, doc in enumerate(X_train_doc['tokens'])]\n",
    "test_documents = [TaggedDocument(words= doc, tags= [i]) for i, doc in enumerate(X_test_doc['tokens'])]"
   ]
  },
  {
   "cell_type": "code",
   "execution_count": 279,
   "metadata": {},
   "outputs": [
    {
     "name": "stdout",
     "output_type": "stream",
     "text": [
      "TaggedDocument(['alright', 'set', 'text', 'man'], [0])\n"
     ]
    }
   ],
   "source": [
    "print(train_documents[0])"
   ]
  },
  {
   "cell_type": "markdown",
   "metadata": {},
   "source": [
    "# 5.0 Doc2Vec Embedding"
   ]
  },
  {
   "cell_type": "code",
   "execution_count": 280,
   "metadata": {},
   "outputs": [
    {
     "name": "stdout",
     "output_type": "stream",
     "text": [
      "8\n"
     ]
    }
   ],
   "source": [
    "import multiprocessing\n",
    "cores = multiprocessing.cpu_count()\n",
    "print(cores)"
   ]
  },
  {
   "cell_type": "code",
   "execution_count": 281,
   "metadata": {},
   "outputs": [
    {
     "name": "stderr",
     "output_type": "stream",
     "text": [
      "100%|██████████| 3733/3733 [00:00<00:00, 1865301.03it/s]\n"
     ]
    }
   ],
   "source": [
    "from tqdm import tqdm\n",
    "model_dbow = Doc2Vec(dm=1, vector_size=100, negative=5, hs=0, min_count=2, sample = 0, workers=cores, alpha=0.025, min_alpha=0.001)\n",
    "model_dbow.build_vocab([x for x in tqdm(train_documents)])\n",
    "# train_documents  = utils.shuffle(train_documents)\n",
    "model_dbow.train(train_documents,total_examples=len(train_documents), epochs=30)"
   ]
  },
  {
   "cell_type": "code",
   "execution_count": 282,
   "metadata": {},
   "outputs": [],
   "source": [
    "def vector_for_learning(model, input_docs):\n",
    "    targets, feature_vectors = zip(*[(doc.tags[0], model.infer_vector(doc.words, steps=20)) for doc in input_docs])\n",
    "    return targets, feature_vectors"
   ]
  },
  {
   "cell_type": "code",
   "execution_count": 283,
   "metadata": {},
   "outputs": [],
   "source": [
    "_, X_train = vector_for_learning(model_dbow, train_documents)\n",
    "_, X_test = vector_for_learning(model_dbow, test_documents)"
   ]
  },
  {
   "cell_type": "code",
   "execution_count": 284,
   "metadata": {},
   "outputs": [
    {
     "data": {
      "text/plain": [
       "array([-0.02697269, -0.0407169 ,  0.03097039,  0.03714674,  0.00742686,\n",
       "        0.02747871,  0.0303512 , -0.00036291, -0.01287164, -0.04531964,\n",
       "       -0.01660654,  0.0327225 , -0.01042068, -0.02561682, -0.01445935,\n",
       "        0.03337326,  0.02266306, -0.0205961 , -0.02181766, -0.03188667,\n",
       "        0.0102182 , -0.02333212, -0.0165922 ,  0.0302441 ,  0.05187189,\n",
       "        0.02268223,  0.03847696,  0.02918115,  0.02198733, -0.01692997,\n",
       "        0.04058788, -0.04199082,  0.01525499, -0.02617353,  0.04757469,\n",
       "        0.01004474, -0.00023499,  0.04599861,  0.04057302,  0.0257479 ,\n",
       "       -0.00690177,  0.00860005, -0.01372077, -0.01746124, -0.03105097,\n",
       "        0.012309  , -0.02027664,  0.07069066, -0.03281707, -0.02304384,\n",
       "       -0.01463537, -0.00594229,  0.01426768,  0.00177333, -0.0079196 ,\n",
       "        0.03710762, -0.00591717, -0.00408066,  0.04384585,  0.00175703,\n",
       "       -0.0236137 ,  0.06762215,  0.0036565 ,  0.04077871, -0.03323013,\n",
       "        0.01621639,  0.00189614, -0.00909267, -0.02649643,  0.00835204,\n",
       "        0.01154634,  0.00655459, -0.03640492, -0.02989845,  0.01803525,\n",
       "        0.0161793 ,  0.0010333 ,  0.00870413,  0.02400292, -0.02554358,\n",
       "        0.02747343,  0.02353095,  0.00298275,  0.03436619, -0.06288353,\n",
       "       -0.02982257, -0.02193988, -0.00416231,  0.00452461, -0.04823359,\n",
       "       -0.0059217 ,  0.03563841,  0.00158514, -0.00930199, -0.02941807,\n",
       "       -0.005199  , -0.01181369,  0.00658646, -0.0314336 ,  0.05043076],\n",
       "      dtype=float32)"
      ]
     },
     "execution_count": 284,
     "metadata": {},
     "output_type": "execute_result"
    }
   ],
   "source": [
    "X_train[0]"
   ]
  },
  {
   "cell_type": "markdown",
   "metadata": {},
   "source": [
    "# 6.0 Train Model"
   ]
  },
  {
   "cell_type": "code",
   "execution_count": 285,
   "metadata": {},
   "outputs": [
    {
     "name": "stderr",
     "output_type": "stream",
     "text": [
      "C:\\ProgramData\\Anaconda3\\lib\\site-packages\\sklearn\\linear_model\\logistic.py:433: FutureWarning: Default solver will be changed to 'lbfgs' in 0.22. Specify a solver to silence this warning.\n",
      "  FutureWarning)\n"
     ]
    },
    {
     "data": {
      "text/plain": [
       "LogisticRegression(C=100000.0, class_weight=None, dual=False,\n",
       "          fit_intercept=True, intercept_scaling=1, max_iter=100,\n",
       "          multi_class='warn', n_jobs=1, penalty='l2', random_state=None,\n",
       "          solver='warn', tol=0.0001, verbose=0, warm_start=False)"
      ]
     },
     "execution_count": 285,
     "metadata": {},
     "output_type": "execute_result"
    }
   ],
   "source": [
    "clf = LogisticRegression(n_jobs=1,C=1e5)\n",
    "clf.fit(X_train,y_train)"
   ]
  },
  {
   "cell_type": "code",
   "execution_count": 286,
   "metadata": {},
   "outputs": [
    {
     "name": "stdout",
     "output_type": "stream",
     "text": [
      "training score is: 0.9541923386016609\n",
      "testing score is: 0.9390973355084284\n"
     ]
    }
   ],
   "source": [
    "print('training score is:',clf.score(X_train,y_train))\n",
    "print('testing score is:', clf.score(X_test,y_test))"
   ]
  },
  {
   "cell_type": "code",
   "execution_count": 287,
   "metadata": {},
   "outputs": [
    {
     "name": "stdout",
     "output_type": "stream",
     "text": [
      "0.9225075864110724\n"
     ]
    }
   ],
   "source": [
    "roc=roc_auc_score(y_test, clf.predict_proba(X_test)[:,1])\n",
    "print(roc)"
   ]
  },
  {
   "cell_type": "code",
   "execution_count": 288,
   "metadata": {},
   "outputs": [
    {
     "name": "stderr",
     "output_type": "stream",
     "text": [
      "C:\\ProgramData\\Anaconda3\\lib\\site-packages\\sklearn\\ensemble\\forest.py:246: FutureWarning: The default value of n_estimators will change from 10 in version 0.20 to 100 in 0.22.\n",
      "  \"10 in version 0.20 to 100 in 0.22.\", FutureWarning)\n"
     ]
    },
    {
     "name": "stdout",
     "output_type": "stream",
     "text": [
      "training score is: 0.995981784087865\n",
      "testing score is: 0.9439912996193583\n",
      "testing AUC is: 0.9225075864110724\n"
     ]
    }
   ],
   "source": [
    "from sklearn.ensemble import RandomForestClassifier\n",
    "clf_rf = RandomForestClassifier(\n",
    "        n_jobs=-1\n",
    ")\n",
    "clf_rf.fit(X_train, y_train)\n",
    "print('training score is:',clf_rf.score(X_train,y_train))\n",
    "print('testing score is:', clf_rf.score(X_test,y_test))\n",
    "print('testing AUC is:',roc_auc_score(y_test, clf.predict_proba(X_test)[:,1]))"
   ]
  },
  {
   "cell_type": "markdown",
   "metadata": {},
   "source": [
    "# 6.1 Cross Validation"
   ]
  },
  {
   "cell_type": "code",
   "execution_count": 289,
   "metadata": {},
   "outputs": [
    {
     "name": "stdout",
     "output_type": "stream",
     "text": [
      "Fitting 5 folds for each of 4 candidates, totalling 20 fits\n"
     ]
    },
    {
     "name": "stderr",
     "output_type": "stream",
     "text": [
      "[Parallel(n_jobs=1)]: Using backend SequentialBackend with 1 concurrent workers.\n"
     ]
    },
    {
     "name": "stdout",
     "output_type": "stream",
     "text": [
      "[CV] max_depth=1, max_features=5, n_estimators=100 ...................\n",
      "[CV]  max_depth=1, max_features=5, n_estimators=100, score=0.953097012117107, total=   0.2s\n"
     ]
    },
    {
     "name": "stderr",
     "output_type": "stream",
     "text": [
      "[Parallel(n_jobs=1)]: Done   1 out of   1 | elapsed:    0.3s remaining:    0.0s\n"
     ]
    },
    {
     "name": "stdout",
     "output_type": "stream",
     "text": [
      "[CV] max_depth=1, max_features=5, n_estimators=100 ...................\n",
      "[CV]  max_depth=1, max_features=5, n_estimators=100, score=0.9337057303541572, total=   0.2s\n"
     ]
    },
    {
     "name": "stderr",
     "output_type": "stream",
     "text": [
      "[Parallel(n_jobs=1)]: Done   2 out of   2 | elapsed:    0.7s remaining:    0.0s\n"
     ]
    },
    {
     "name": "stdout",
     "output_type": "stream",
     "text": [
      "[CV] max_depth=1, max_features=5, n_estimators=100 ...................\n",
      "[CV]  max_depth=1, max_features=5, n_estimators=100, score=0.9418234685178419, total=   0.2s\n",
      "[CV] max_depth=1, max_features=5, n_estimators=100 ...................\n",
      "[CV]  max_depth=1, max_features=5, n_estimators=100, score=0.9497777371818292, total=   0.2s\n",
      "[CV] max_depth=1, max_features=5, n_estimators=100 ...................\n",
      "[CV]  max_depth=1, max_features=5, n_estimators=100, score=0.9483162830349532, total=   0.2s\n",
      "[CV] max_depth=1, max_features=10, n_estimators=100 ..................\n",
      "[CV]  max_depth=1, max_features=10, n_estimators=100, score=0.9560848950101604, total=   0.2s\n",
      "[CV] max_depth=1, max_features=10, n_estimators=100 ..................\n",
      "[CV]  max_depth=1, max_features=10, n_estimators=100, score=0.9239778081775345, total=   0.2s\n",
      "[CV] max_depth=1, max_features=10, n_estimators=100 ..................\n",
      "[CV]  max_depth=1, max_features=10, n_estimators=100, score=0.93555900621118, total=   0.2s\n",
      "[CV] max_depth=1, max_features=10, n_estimators=100 ..................\n",
      "[CV]  max_depth=1, max_features=10, n_estimators=100, score=0.9483771769577396, total=   0.2s\n",
      "[CV] max_depth=1, max_features=10, n_estimators=100 ..................\n",
      "[CV]  max_depth=1, max_features=10, n_estimators=100, score=0.9397682986237974, total=   0.2s\n",
      "[CV] max_depth=2, max_features=5, n_estimators=100 ...................\n",
      "[CV]  max_depth=2, max_features=5, n_estimators=100, score=0.9593512455783848, total=   0.2s\n",
      "[CV] max_depth=2, max_features=5, n_estimators=100 ...................\n",
      "[CV]  max_depth=2, max_features=5, n_estimators=100, score=0.9392460860313118, total=   0.2s\n",
      "[CV] max_depth=2, max_features=5, n_estimators=100 ...................\n",
      "[CV]  max_depth=2, max_features=5, n_estimators=100, score=0.9471364632809645, total=   0.2s\n",
      "[CV] max_depth=2, max_features=5, n_estimators=100 ...................\n",
      "[CV]  max_depth=2, max_features=5, n_estimators=100, score=0.9561487638533674, total=   0.2s\n",
      "[CV] max_depth=2, max_features=5, n_estimators=100 ...................\n",
      "[CV]  max_depth=2, max_features=5, n_estimators=100, score=0.9458348556814029, total=   0.2s\n",
      "[CV] max_depth=2, max_features=10, n_estimators=100 ..................\n",
      "[CV]  max_depth=2, max_features=10, n_estimators=100, score=0.9614811469857756, total=   0.2s\n",
      "[CV] max_depth=2, max_features=10, n_estimators=100 ..................\n",
      "[CV]  max_depth=2, max_features=10, n_estimators=100, score=0.9336981304149568, total=   0.2s\n",
      "[CV] max_depth=2, max_features=10, n_estimators=100 ..................\n",
      "[CV]  max_depth=2, max_features=10, n_estimators=100, score=0.949214468396054, total=   0.3s\n",
      "[CV] max_depth=2, max_features=10, n_estimators=100 ..................\n",
      "[CV]  max_depth=2, max_features=10, n_estimators=100, score=0.9530355620509074, total=   0.3s\n",
      "[CV] max_depth=2, max_features=10, n_estimators=100 ..................\n",
      "[CV]  max_depth=2, max_features=10, n_estimators=100, score=0.9453324808184144, total=   0.2s\n"
     ]
    },
    {
     "name": "stderr",
     "output_type": "stream",
     "text": [
      "[Parallel(n_jobs=1)]: Done  20 out of  20 | elapsed:    8.6s finished\n"
     ]
    },
    {
     "data": {
      "text/plain": [
       "GridSearchCV(cv=5, error_score='raise-deprecating',\n",
       "       estimator=RandomForestClassifier(bootstrap=True, class_weight=None, criterion='gini',\n",
       "            max_depth=None, max_features='auto', max_leaf_nodes=None,\n",
       "            min_impurity_decrease=0.0, min_impurity_split=None,\n",
       "            min_samples_leaf=1, min_samples_split=2,\n",
       "            min_weight_fraction_leaf=0.0, n_estimators=10, n_jobs=-1,\n",
       "            oob_score=False, random_state=None, verbose=0,\n",
       "            warm_start=False),\n",
       "       fit_params=None, iid='warn', n_jobs=None,\n",
       "       param_grid={'max_depth': [1, 2], 'max_features': [5, 10], 'n_estimators': [100]},\n",
       "       pre_dispatch='2*n_jobs', refit=True, return_train_score='warn',\n",
       "       scoring='roc_auc', verbose=3)"
      ]
     },
     "execution_count": 289,
     "metadata": {},
     "output_type": "execute_result"
    }
   ],
   "source": [
    "from sklearn.model_selection import GridSearchCV, cross_val_score, cross_validate\n",
    "param_grid = {\n",
    "    'max_depth': [1,2,]\n",
    "    ,'max_features': [5,10]\n",
    "    ,'n_estimators': [100]\n",
    "}\n",
    "grid_search = GridSearchCV(clf_rf,param_grid,cv=5,scoring = 'roc_auc',verbose=3)\n",
    "grid_search.fit(X_train,y_train)"
   ]
  },
  {
   "cell_type": "code",
   "execution_count": 290,
   "metadata": {},
   "outputs": [
    {
     "name": "stdout",
     "output_type": "stream",
     "text": [
      "{'max_depth': 2, 'max_features': 5, 'n_estimators': 100}\n",
      "0.9495459790352425\n",
      "make_scorer(roc_auc_score, needs_threshold=True)\n"
     ]
    }
   ],
   "source": [
    "print(grid_search.best_params_)\n",
    "print(grid_search.best_score_)\n",
    "print(grid_search.scorer_)"
   ]
  },
  {
   "cell_type": "code",
   "execution_count": 307,
   "metadata": {},
   "outputs": [
    {
     "name": "stdout",
     "output_type": "stream",
     "text": [
      "0.9059271343121261\n",
      "0.9059271343121261\n",
      "              precision    recall  f1-score   support\n",
      "\n",
      "           0       0.90      1.00      0.95      1603\n",
      "           1       0.98      0.27      0.43       236\n",
      "\n",
      "   micro avg       0.91      0.91      0.91      1839\n",
      "   macro avg       0.94      0.64      0.69      1839\n",
      "weighted avg       0.91      0.91      0.88      1839\n",
      "\n"
     ]
    }
   ],
   "source": [
    "best_clf = grid_search.best_estimator_\n",
    "print(best_clf.score(X_test,y_test,))\n",
    "from sklearn.metrics import accuracy_score\n",
    "print(accuracy_score(y_test,best_clf.predict(X_test)))\n",
    "print(classification_report(y_test,best_clf.predict(X_test)))"
   ]
  },
  {
   "cell_type": "code",
   "execution_count": 297,
   "metadata": {},
   "outputs": [
    {
     "name": "stderr",
     "output_type": "stream",
     "text": [
      "C:\\ProgramData\\Anaconda3\\lib\\site-packages\\ipykernel_launcher.py:1: SettingWithCopyWarning: \n",
      "A value is trying to be set on a copy of a slice from a DataFrame.\n",
      "Try using .loc[row_indexer,col_indexer] = value instead\n",
      "\n",
      "See the caveats in the documentation: http://pandas.pydata.org/pandas-docs/stable/indexing.html#indexing-view-versus-copy\n",
      "  \"\"\"Entry point for launching an IPython kernel.\n",
      "C:\\ProgramData\\Anaconda3\\lib\\site-packages\\ipykernel_launcher.py:2: SettingWithCopyWarning: \n",
      "A value is trying to be set on a copy of a slice from a DataFrame.\n",
      "Try using .loc[row_indexer,col_indexer] = value instead\n",
      "\n",
      "See the caveats in the documentation: http://pandas.pydata.org/pandas-docs/stable/indexing.html#indexing-view-versus-copy\n",
      "  \n",
      "C:\\ProgramData\\Anaconda3\\lib\\site-packages\\ipykernel_launcher.py:3: SettingWithCopyWarning: \n",
      "A value is trying to be set on a copy of a slice from a DataFrame.\n",
      "Try using .loc[row_indexer,col_indexer] = value instead\n",
      "\n",
      "See the caveats in the documentation: http://pandas.pydata.org/pandas-docs/stable/indexing.html#indexing-view-versus-copy\n",
      "  This is separate from the ipykernel package so we can avoid doing imports until\n"
     ]
    },
    {
     "data": {
      "text/plain": [
       "(1839, 8)"
      ]
     },
     "execution_count": 297,
     "metadata": {},
     "output_type": "execute_result"
    }
   ],
   "source": [
    "X_test_doc['y_true'] = y_test\n",
    "X_test_doc['y_pred'] = best_clf.predict(X_test)\n",
    "X_test_doc['incorrect'] = y_test != best_clf.predict(X_test)\n",
    "X_test_doc.shape"
   ]
  },
  {
   "cell_type": "code",
   "execution_count": 305,
   "metadata": {},
   "outputs": [
    {
     "data": {
      "text/html": [
       "<div>\n",
       "<style scoped>\n",
       "    .dataframe tbody tr th:only-of-type {\n",
       "        vertical-align: middle;\n",
       "    }\n",
       "\n",
       "    .dataframe tbody tr th {\n",
       "        vertical-align: top;\n",
       "    }\n",
       "\n",
       "    .dataframe thead th {\n",
       "        text-align: right;\n",
       "    }\n",
       "</style>\n",
       "<table border=\"1\" class=\"dataframe\">\n",
       "  <thead>\n",
       "    <tr style=\"text-align: right;\">\n",
       "      <th></th>\n",
       "      <th>text</th>\n",
       "      <th>y_true</th>\n",
       "      <th>y_pred</th>\n",
       "    </tr>\n",
       "  </thead>\n",
       "  <tbody>\n",
       "    <tr>\n",
       "      <th>3227</th>\n",
       "      <td>SIX chances to win CASH! From 100 to 20,000 pounds txt&gt; CSH11 and send to 87575. Cost 150p/day, 6days, 16+ TsandCs apply Reply HL 4 info</td>\n",
       "      <td>1</td>\n",
       "      <td>0</td>\n",
       "    </tr>\n",
       "    <tr>\n",
       "      <th>3090</th>\n",
       "      <td>LORD OF THE RINGS:RETURN OF THE KING in store NOW!REPLY LOTR by 2 June 4 Chance 2 WIN LOTR soundtrack CDs StdTxtRate. Reply STOP to end txts</td>\n",
       "      <td>1</td>\n",
       "      <td>0</td>\n",
       "    </tr>\n",
       "    <tr>\n",
       "      <th>1779</th>\n",
       "      <td>Loan for any purpose å£500 - å£75,000. Homeowners + Tenants welcome. Have you been previously refused? We can still help. Call Free 0800 1956669 or text back 'help'</td>\n",
       "      <td>1</td>\n",
       "      <td>0</td>\n",
       "    </tr>\n",
       "    <tr>\n",
       "      <th>4371</th>\n",
       "      <td>Ur balance is now å£600. Next question: Complete the landmark, Big, A. Bob, B. Barry or C. Ben ?. Text A, B or C to 83738. Good luck!</td>\n",
       "      <td>1</td>\n",
       "      <td>0</td>\n",
       "    </tr>\n",
       "    <tr>\n",
       "      <th>4947</th>\n",
       "      <td>Hi this is Amy, we will be sending you a free phone number in a couple of days, which will give you an access to all the adult parties...</td>\n",
       "      <td>1</td>\n",
       "      <td>0</td>\n",
       "    </tr>\n",
       "    <tr>\n",
       "      <th>5370</th>\n",
       "      <td>dating:i have had two of these. Only started after i sent a text to talk sport radio last week. Any connection do you think or coincidence?</td>\n",
       "      <td>1</td>\n",
       "      <td>0</td>\n",
       "    </tr>\n",
       "    <tr>\n",
       "      <th>4901</th>\n",
       "      <td>* FREE* POLYPHONIC RINGTONE Text SUPER to 87131 to get your FREE POLY TONE of the week now! 16 SN PoBox202 NR31 7ZS subscription 450pw</td>\n",
       "      <td>1</td>\n",
       "      <td>0</td>\n",
       "    </tr>\n",
       "    <tr>\n",
       "      <th>1886</th>\n",
       "      <td>Dear 0776xxxxxxx U've been invited to XCHAT. This is our final attempt to contact u! Txt CHAT to 86688 150p/MsgrcvdHG/Suite342/2Lands/Row/W1J6HL LDN 18yrs</td>\n",
       "      <td>1</td>\n",
       "      <td>0</td>\n",
       "    </tr>\n",
       "    <tr>\n",
       "      <th>1273</th>\n",
       "      <td>network operator. The service is free. For T &amp; C's visit 80488.biz</td>\n",
       "      <td>1</td>\n",
       "      <td>0</td>\n",
       "    </tr>\n",
       "    <tr>\n",
       "      <th>528</th>\n",
       "      <td>You will recieve your tone within the next 24hrs. For Terms and conditions please see Channel U Teletext Pg 750</td>\n",
       "      <td>1</td>\n",
       "      <td>0</td>\n",
       "    </tr>\n",
       "    <tr>\n",
       "      <th>787</th>\n",
       "      <td>Ever thought about living a good life with a perfect partner? Just txt back NAME and AGE to join the mobile community. (100p/SMS)</td>\n",
       "      <td>1</td>\n",
       "      <td>0</td>\n",
       "    </tr>\n",
       "    <tr>\n",
       "      <th>1687</th>\n",
       "      <td>Free Top ringtone -sub to weekly ringtone-get 1st week free-send SUBPOLY to 81618-?3 per week-stop sms-08718727870</td>\n",
       "      <td>1</td>\n",
       "      <td>0</td>\n",
       "    </tr>\n",
       "    <tr>\n",
       "      <th>1892</th>\n",
       "      <td>CALL 09090900040 &amp; LISTEN TO EXTREME DIRTY LIVE CHAT GOING ON IN THE OFFICE RIGHT NOW TOTAL PRIVACY NO ONE KNOWS YOUR [sic] LISTENING 60P MIN 24/7MP 0870753331018+</td>\n",
       "      <td>1</td>\n",
       "      <td>0</td>\n",
       "    </tr>\n",
       "    <tr>\n",
       "      <th>3395</th>\n",
       "      <td>URGENT! Your Mobile number has been awarded with a å£2000 Bonus Caller Prize. Call 09058095201 from land line. Valid 12hrs only</td>\n",
       "      <td>1</td>\n",
       "      <td>0</td>\n",
       "    </tr>\n",
       "    <tr>\n",
       "      <th>5526</th>\n",
       "      <td>PRIVATE! Your 2003 Account Statement for shows 800 un-redeemed S.I.M. points. Call 08718738001 Identifier Code: 49557 Expires 26/11/04</td>\n",
       "      <td>1</td>\n",
       "      <td>0</td>\n",
       "    </tr>\n",
       "    <tr>\n",
       "      <th>2401</th>\n",
       "      <td>Babe: U want me dont u baby! Im nasty and have a thing 4 filthyguys. Fancy a rude time with a sexy bitch. How about we go slo n hard! Txt XXX SLO(4msgs)</td>\n",
       "      <td>1</td>\n",
       "      <td>0</td>\n",
       "    </tr>\n",
       "    <tr>\n",
       "      <th>3776</th>\n",
       "      <td>Mila, age23, blonde, new in UK. I look sex with UK guys. if u like fun with me. Text MTALK to 69866.18 . 30pp/txt 1st 5free. å£1.50 increments. Help08718728876</td>\n",
       "      <td>1</td>\n",
       "      <td>0</td>\n",
       "    </tr>\n",
       "    <tr>\n",
       "      <th>750</th>\n",
       "      <td>Do you realize that in about 40 years, we'll have thousands of old ladies running around with tattoos?</td>\n",
       "      <td>1</td>\n",
       "      <td>0</td>\n",
       "    </tr>\n",
       "    <tr>\n",
       "      <th>4198</th>\n",
       "      <td>cmon babe, make me horny, *turn* me on! Txt me your fantasy now babe -) Im hot, sticky and need you now. All replies cost å£1.50. 2 cancel send STOP</td>\n",
       "      <td>1</td>\n",
       "      <td>0</td>\n",
       "    </tr>\n",
       "    <tr>\n",
       "      <th>1624</th>\n",
       "      <td>500 free text msgs. Just text ok to 80488 and we'll credit your account</td>\n",
       "      <td>1</td>\n",
       "      <td>0</td>\n",
       "    </tr>\n",
       "    <tr>\n",
       "      <th>8</th>\n",
       "      <td>WINNER!! As a valued network customer you have been selected to receivea å£900 prize reward! To claim call 09061701461. Claim code KL341. Valid 12 hours only.</td>\n",
       "      <td>1</td>\n",
       "      <td>0</td>\n",
       "    </tr>\n",
       "    <tr>\n",
       "      <th>4839</th>\n",
       "      <td>PRIVATE! Your 2003 Account Statement for shows 800 un-redeemed S. I. M. points. Call 08715203652 Identifier Code: 42810 Expires 29/10/0</td>\n",
       "      <td>1</td>\n",
       "      <td>0</td>\n",
       "    </tr>\n",
       "    <tr>\n",
       "      <th>868</th>\n",
       "      <td>Hello. We need some posh birds and chaps to user trial prods for champneys. Can i put you down? I need your address and dob asap. Ta r</td>\n",
       "      <td>1</td>\n",
       "      <td>0</td>\n",
       "    </tr>\n",
       "    <tr>\n",
       "      <th>689</th>\n",
       "      <td>&lt;Forwarded from 448712404000&gt;Please CALL 08712404000 immediately as there is an urgent message waiting for you.</td>\n",
       "      <td>1</td>\n",
       "      <td>0</td>\n",
       "    </tr>\n",
       "    <tr>\n",
       "      <th>737</th>\n",
       "      <td>Hi. Customer Loyalty Offer:The NEW Nokia6650 Mobile from ONLY å£10 at TXTAUCTION! Txt word: START to No: 81151 &amp; get yours Now! 4T&amp;Ctxt TC 150p/MTmsg</td>\n",
       "      <td>1</td>\n",
       "      <td>0</td>\n",
       "    </tr>\n",
       "    <tr>\n",
       "      <th>2988</th>\n",
       "      <td>No 1 POLYPHONIC tone 4 ur mob every week! Just txt PT2 to 87575. 1st Tone FREE ! so get txtin now and tell ur friends. 150p/tone. 16 reply HL 4info</td>\n",
       "      <td>1</td>\n",
       "      <td>0</td>\n",
       "    </tr>\n",
       "    <tr>\n",
       "      <th>2957</th>\n",
       "      <td>U have a secret admirer. REVEAL who thinks U R So special. Call 09065174042. To opt out Reply REVEAL STOP. 1.50 per msg recd. Cust care 07821230901</td>\n",
       "      <td>1</td>\n",
       "      <td>0</td>\n",
       "    </tr>\n",
       "    <tr>\n",
       "      <th>1136</th>\n",
       "      <td>Dont forget you can place as many FREE Requests with 1stchoice.co.uk as you wish. For more Information call 08707808226.</td>\n",
       "      <td>1</td>\n",
       "      <td>0</td>\n",
       "    </tr>\n",
       "    <tr>\n",
       "      <th>5016</th>\n",
       "      <td>Dear 0776xxxxxxx U've been invited to XCHAT. This is our final attempt to contact u! Txt CHAT to 86688 150p/MsgrcvdHG/Suite342/2Lands/Row/W1J6HL LDN 18yrs</td>\n",
       "      <td>1</td>\n",
       "      <td>0</td>\n",
       "    </tr>\n",
       "    <tr>\n",
       "      <th>2943</th>\n",
       "      <td>We currently have a message awaiting your collection. To collect your message just call 08718723815.</td>\n",
       "      <td>1</td>\n",
       "      <td>0</td>\n",
       "    </tr>\n",
       "    <tr>\n",
       "      <th>...</th>\n",
       "      <td>...</td>\n",
       "      <td>...</td>\n",
       "      <td>...</td>\n",
       "    </tr>\n",
       "    <tr>\n",
       "      <th>610</th>\n",
       "      <td>22 days to kick off! For Euro2004 U will be kept up to date with the latest news and results daily. To be removed send GET TXT STOP to 83222</td>\n",
       "      <td>1</td>\n",
       "      <td>0</td>\n",
       "    </tr>\n",
       "    <tr>\n",
       "      <th>3979</th>\n",
       "      <td>ringtoneking 84484</td>\n",
       "      <td>1</td>\n",
       "      <td>0</td>\n",
       "    </tr>\n",
       "    <tr>\n",
       "      <th>4247</th>\n",
       "      <td>accordingly. I repeat, just text the word ok on your mobile phone and send</td>\n",
       "      <td>1</td>\n",
       "      <td>0</td>\n",
       "    </tr>\n",
       "    <tr>\n",
       "      <th>3499</th>\n",
       "      <td>Dorothy@kiefer.com (Bank of Granite issues Strong-Buy) EXPLOSIVE PICK FOR OUR MEMBERS *****UP OVER 300% *********** Nasdaq Symbol CDGT That is a $5.00 per..</td>\n",
       "      <td>1</td>\n",
       "      <td>0</td>\n",
       "    </tr>\n",
       "    <tr>\n",
       "      <th>3583</th>\n",
       "      <td>Hi 07734396839 IBH Customer Loyalty Offer: The NEW NOKIA6600 Mobile from ONLY å£10 at TXTAUCTION!Txt word:START to No:81151 &amp; get Yours Now!4T&amp;</td>\n",
       "      <td>1</td>\n",
       "      <td>0</td>\n",
       "    </tr>\n",
       "    <tr>\n",
       "      <th>4766</th>\n",
       "      <td>Your unique user ID is 1172. For removal send STOP to 87239 customer services 08708034412</td>\n",
       "      <td>1</td>\n",
       "      <td>0</td>\n",
       "    </tr>\n",
       "    <tr>\n",
       "      <th>2289</th>\n",
       "      <td>Had your mobile 11mths ? Update for FREE to Oranges latest colour camera mobiles &amp; unlimited weekend calls. Call Mobile Upd8 on freefone 08000839402 or 2StopTx</td>\n",
       "      <td>1</td>\n",
       "      <td>0</td>\n",
       "    </tr>\n",
       "    <tr>\n",
       "      <th>3007</th>\n",
       "      <td>Loan for any purpose å£500 - å£75,000. Homeowners + Tenants welcome. Have you been previously refused? We can still help. Call Free 0800 1956669 or text back 'help'</td>\n",
       "      <td>1</td>\n",
       "      <td>0</td>\n",
       "    </tr>\n",
       "    <tr>\n",
       "      <th>1068</th>\n",
       "      <td>Someone U know has asked our dating service 2 contact you! Cant Guess who? CALL 09058091854 NOW all will be revealed. PO BOX385 M6 6WU</td>\n",
       "      <td>1</td>\n",
       "      <td>0</td>\n",
       "    </tr>\n",
       "    <tr>\n",
       "      <th>2132</th>\n",
       "      <td>Your B4U voucher w/c 27/03 is MARSMS. Log onto www.B4Utele.com for discount credit. To opt out reply stop. Customer care call 08717168528</td>\n",
       "      <td>1</td>\n",
       "      <td>0</td>\n",
       "    </tr>\n",
       "    <tr>\n",
       "      <th>4046</th>\n",
       "      <td>Thanks for your ringtone order, reference number X49.Your mobile will be charged 4.50. Should your tone not arrive please call customer services 09065989182</td>\n",
       "      <td>1</td>\n",
       "      <td>0</td>\n",
       "    </tr>\n",
       "    <tr>\n",
       "      <th>1468</th>\n",
       "      <td>Hi its LUCY Hubby at meetins all day Fri &amp; I will B alone at hotel U fancy cumin over? Pls leave msg 2day 09099726395 Lucy x Callså£1/minMobsmoreLKPOBOX177HP51FL</td>\n",
       "      <td>1</td>\n",
       "      <td>0</td>\n",
       "    </tr>\n",
       "    <tr>\n",
       "      <th>12</th>\n",
       "      <td>URGENT! You have won a 1 week FREE membership in our å£100,000 Prize Jackpot! Txt the word: CLAIM to No: 81010 T&amp;C www.dbuk.net LCCLTD POBOX 4403LDNW1A7RW18</td>\n",
       "      <td>1</td>\n",
       "      <td>0</td>\n",
       "    </tr>\n",
       "    <tr>\n",
       "      <th>1698</th>\n",
       "      <td>Free msg. Sorry, a service you ordered from 81303 could not be delivered as you do not have sufficient credit. Please top up to receive the service.</td>\n",
       "      <td>1</td>\n",
       "      <td>0</td>\n",
       "    </tr>\n",
       "    <tr>\n",
       "      <th>9</th>\n",
       "      <td>Had your mobile 11 months or more? U R entitled to Update to the latest colour mobiles with camera for Free! Call The Mobile Update Co FREE on 08002986030</td>\n",
       "      <td>1</td>\n",
       "      <td>0</td>\n",
       "    </tr>\n",
       "    <tr>\n",
       "      <th>4293</th>\n",
       "      <td>Kit Strip - you have been billed 150p. Netcollex Ltd. PO Box 1013 IG11 OJA</td>\n",
       "      <td>1</td>\n",
       "      <td>0</td>\n",
       "    </tr>\n",
       "    <tr>\n",
       "      <th>1622</th>\n",
       "      <td>U have a secret admirer who is looking 2 make contact with U-find out who they R*reveal who thinks UR so special-call on 09058094599</td>\n",
       "      <td>1</td>\n",
       "      <td>0</td>\n",
       "    </tr>\n",
       "    <tr>\n",
       "      <th>4296</th>\n",
       "      <td>thesmszone.com lets you send free anonymous and masked messages..im sending this message from there..do you see the potential for abuse???</td>\n",
       "      <td>1</td>\n",
       "      <td>0</td>\n",
       "    </tr>\n",
       "    <tr>\n",
       "      <th>709</th>\n",
       "      <td>4mths half price Orange line rental &amp; latest camera phones 4 FREE. Had your phone 11mths+? Call MobilesDirect free on 08000938767 to update now! or2stoptxt T&amp;Cs</td>\n",
       "      <td>1</td>\n",
       "      <td>0</td>\n",
       "    </tr>\n",
       "    <tr>\n",
       "      <th>2547</th>\n",
       "      <td>Text82228&gt;&gt; Get more ringtones, logos and games from www.txt82228.com. Questions: info@txt82228.co.uk</td>\n",
       "      <td>1</td>\n",
       "      <td>0</td>\n",
       "    </tr>\n",
       "    <tr>\n",
       "      <th>2412</th>\n",
       "      <td>I don't know u and u don't know me. Send CHAT to 86688 now and let's find each other! Only 150p/Msg rcvd. HG/Suite342/2Lands/Row/W1J6HL LDN. 18 years or over.</td>\n",
       "      <td>1</td>\n",
       "      <td>0</td>\n",
       "    </tr>\n",
       "    <tr>\n",
       "      <th>760</th>\n",
       "      <td>Romantic Paris. 2 nights, 2 flights from å£79 Book now 4 next year. Call 08704439680Ts&amp;Cs apply.</td>\n",
       "      <td>1</td>\n",
       "      <td>0</td>\n",
       "    </tr>\n",
       "    <tr>\n",
       "      <th>4886</th>\n",
       "      <td>Todays Vodafone numbers ending with 4882 are selected to a receive a å£350 award. If your number matches call 09064019014 to receive your å£350 award.</td>\n",
       "      <td>1</td>\n",
       "      <td>0</td>\n",
       "    </tr>\n",
       "    <tr>\n",
       "      <th>2824</th>\n",
       "      <td>Congratulations - Thanks to a good friend U have WON the å£2,000 Xmas prize. 2 claim is easy, just call 08712103738 NOW! Only 10p per minute. BT-national-rate</td>\n",
       "      <td>1</td>\n",
       "      <td>0</td>\n",
       "    </tr>\n",
       "    <tr>\n",
       "      <th>762</th>\n",
       "      <td>Urgent Ur å£500 guaranteed award is still unclaimed! Call 09066368327 NOW closingdate04/09/02 claimcode M39M51 å£1.50pmmorefrommobile2Bremoved-MobyPOBox734LS27YF</td>\n",
       "      <td>1</td>\n",
       "      <td>0</td>\n",
       "    </tr>\n",
       "    <tr>\n",
       "      <th>1216</th>\n",
       "      <td>You have 1 new voicemail. Please call 08719181513.</td>\n",
       "      <td>1</td>\n",
       "      <td>0</td>\n",
       "    </tr>\n",
       "    <tr>\n",
       "      <th>4384</th>\n",
       "      <td>Do you want a New Nokia 3510i Colour Phone Delivered Tomorrow? With 200 FREE minutes to any mobile + 100 FREE text + FREE camcorder Reply or Call 8000930705</td>\n",
       "      <td>1</td>\n",
       "      <td>0</td>\n",
       "    </tr>\n",
       "    <tr>\n",
       "      <th>1251</th>\n",
       "      <td>Please CALL 08712402779 immediately as there is an urgent message waiting for you</td>\n",
       "      <td>1</td>\n",
       "      <td>0</td>\n",
       "    </tr>\n",
       "    <tr>\n",
       "      <th>1568</th>\n",
       "      <td>Today is ACCEPT DAY..U Accept me as? Brother Sister Lover Dear1 Best1 Clos1 Lvblefrnd Jstfrnd Cutefrnd Lifpartnr Belovd Swtheart Bstfrnd No rply means enemy</td>\n",
       "      <td>0</td>\n",
       "      <td>1</td>\n",
       "    </tr>\n",
       "    <tr>\n",
       "      <th>2802</th>\n",
       "      <td>FreeMsg&gt;FAV XMAS TONES!Reply REAL</td>\n",
       "      <td>1</td>\n",
       "      <td>0</td>\n",
       "    </tr>\n",
       "  </tbody>\n",
       "</table>\n",
       "<p>173 rows × 3 columns</p>\n",
       "</div>"
      ],
      "text/plain": [
       "                                                                                                                                                                      text  \\\n",
       "3227                              SIX chances to win CASH! From 100 to 20,000 pounds txt> CSH11 and send to 87575. Cost 150p/day, 6days, 16+ TsandCs apply Reply HL 4 info   \n",
       "3090                          LORD OF THE RINGS:RETURN OF THE KING in store NOW!REPLY LOTR by 2 June 4 Chance 2 WIN LOTR soundtrack CDs StdTxtRate. Reply STOP to end txts   \n",
       "1779  Loan for any purpose å£500 - å£75,000. Homeowners + Tenants welcome. Have you been previously refused? We can still help. Call Free 0800 1956669 or text back 'help'   \n",
       "4371                                 Ur balance is now å£600. Next question: Complete the landmark, Big, A. Bob, B. Barry or C. Ben ?. Text A, B or C to 83738. Good luck!   \n",
       "4947                             Hi this is Amy, we will be sending you a free phone number in a couple of days, which will give you an access to all the adult parties...   \n",
       "5370                           dating:i have had two of these. Only started after i sent a text to talk sport radio last week. Any connection do you think or coincidence?   \n",
       "4901                                * FREE* POLYPHONIC RINGTONE Text SUPER to 87131 to get your FREE POLY TONE of the week now! 16 SN PoBox202 NR31 7ZS subscription 450pw   \n",
       "1886           Dear 0776xxxxxxx U've been invited to XCHAT. This is our final attempt to contact u! Txt CHAT to 86688 150p/MsgrcvdHG/Suite342/2Lands/Row/W1J6HL LDN 18yrs    \n",
       "1273                                                                                                    network operator. The service is free. For T & C's visit 80488.biz   \n",
       "528                                                        You will recieve your tone within the next 24hrs. For Terms and conditions please see Channel U Teletext Pg 750   \n",
       "787                                      Ever thought about living a good life with a perfect partner? Just txt back NAME and AGE to join the mobile community. (100p/SMS)   \n",
       "1687                                                    Free Top ringtone -sub to weekly ringtone-get 1st week free-send SUBPOLY to 81618-?3 per week-stop sms-08718727870   \n",
       "1892   CALL 09090900040 & LISTEN TO EXTREME DIRTY LIVE CHAT GOING ON IN THE OFFICE RIGHT NOW TOTAL PRIVACY NO ONE KNOWS YOUR [sic] LISTENING 60P MIN 24/7MP 0870753331018+   \n",
       "3395                                       URGENT! Your Mobile number has been awarded with a å£2000 Bonus Caller Prize. Call 09058095201 from land line. Valid 12hrs only   \n",
       "5526                                PRIVATE! Your 2003 Account Statement for shows 800 un-redeemed S.I.M. points. Call 08718738001 Identifier Code: 49557 Expires 26/11/04   \n",
       "2401              Babe: U want me dont u baby! Im nasty and have a thing 4 filthyguys. Fancy a rude time with a sexy bitch. How about we go slo n hard! Txt XXX SLO(4msgs)   \n",
       "3776       Mila, age23, blonde, new in UK. I look sex with UK guys. if u like fun with me. Text MTALK to 69866.18 . 30pp/txt 1st 5free. å£1.50 increments. Help08718728876   \n",
       "750                                                                 Do you realize that in about 40 years, we'll have thousands of old ladies running around with tattoos?   \n",
       "4198                  cmon babe, make me horny, *turn* me on! Txt me your fantasy now babe -) Im hot, sticky and need you now. All replies cost å£1.50. 2 cancel send STOP   \n",
       "1624                                                                                               500 free text msgs. Just text ok to 80488 and we'll credit your account   \n",
       "8           WINNER!! As a valued network customer you have been selected to receivea å£900 prize reward! To claim call 09061701461. Claim code KL341. Valid 12 hours only.   \n",
       "4839                               PRIVATE! Your 2003 Account Statement for shows 800 un-redeemed S. I. M. points. Call 08715203652 Identifier Code: 42810 Expires 29/10/0   \n",
       "868                                 Hello. We need some posh birds and chaps to user trial prods for champneys. Can i put you down? I need your address and dob asap. Ta r   \n",
       "689                                                        <Forwarded from 448712404000>Please CALL 08712404000 immediately as there is an urgent message waiting for you.   \n",
       "737                  Hi. Customer Loyalty Offer:The NEW Nokia6650 Mobile from ONLY å£10 at TXTAUCTION! Txt word: START to No: 81151 & get yours Now! 4T&Ctxt TC 150p/MTmsg   \n",
       "2988                   No 1 POLYPHONIC tone 4 ur mob every week! Just txt PT2 to 87575. 1st Tone FREE ! so get txtin now and tell ur friends. 150p/tone. 16 reply HL 4info   \n",
       "2957                   U have a secret admirer. REVEAL who thinks U R So special. Call 09065174042. To opt out Reply REVEAL STOP. 1.50 per msg recd. Cust care 07821230901   \n",
       "1136                                              Dont forget you can place as many FREE Requests with 1stchoice.co.uk as you wish. For more Information call 08707808226.   \n",
       "5016            Dear 0776xxxxxxx U've been invited to XCHAT. This is our final attempt to contact u! Txt CHAT to 86688 150p/MsgrcvdHG/Suite342/2Lands/Row/W1J6HL LDN 18yrs   \n",
       "2943                                                                  We currently have a message awaiting your collection. To collect your message just call 08718723815.   \n",
       "...                                                                                                                                                                    ...   \n",
       "610                           22 days to kick off! For Euro2004 U will be kept up to date with the latest news and results daily. To be removed send GET TXT STOP to 83222   \n",
       "3979                                                                                                                                                    ringtoneking 84484   \n",
       "4247                                                                                            accordingly. I repeat, just text the word ok on your mobile phone and send   \n",
       "3499          Dorothy@kiefer.com (Bank of Granite issues Strong-Buy) EXPLOSIVE PICK FOR OUR MEMBERS *****UP OVER 300% *********** Nasdaq Symbol CDGT That is a $5.00 per..   \n",
       "3583                       Hi 07734396839 IBH Customer Loyalty Offer: The NEW NOKIA6600 Mobile from ONLY å£10 at TXTAUCTION!Txt word:START to No:81151 & get Yours Now!4T&   \n",
       "4766                                                                             Your unique user ID is 1172. For removal send STOP to 87239 customer services 08708034412   \n",
       "2289       Had your mobile 11mths ? Update for FREE to Oranges latest colour camera mobiles & unlimited weekend calls. Call Mobile Upd8 on freefone 08000839402 or 2StopTx   \n",
       "3007  Loan for any purpose å£500 - å£75,000. Homeowners + Tenants welcome. Have you been previously refused? We can still help. Call Free 0800 1956669 or text back 'help'   \n",
       "1068                                Someone U know has asked our dating service 2 contact you! Cant Guess who? CALL 09058091854 NOW all will be revealed. PO BOX385 M6 6WU   \n",
       "2132                             Your B4U voucher w/c 27/03 is MARSMS. Log onto www.B4Utele.com for discount credit. To opt out reply stop. Customer care call 08717168528   \n",
       "4046          Thanks for your ringtone order, reference number X49.Your mobile will be charged 4.50. Should your tone not arrive please call customer services 09065989182   \n",
       "1468     Hi its LUCY Hubby at meetins all day Fri & I will B alone at hotel U fancy cumin over? Pls leave msg 2day 09099726395 Lucy x Callså£1/minMobsmoreLKPOBOX177HP51FL   \n",
       "12            URGENT! You have won a 1 week FREE membership in our å£100,000 Prize Jackpot! Txt the word: CLAIM to No: 81010 T&C www.dbuk.net LCCLTD POBOX 4403LDNW1A7RW18   \n",
       "1698                  Free msg. Sorry, a service you ordered from 81303 could not be delivered as you do not have sufficient credit. Please top up to receive the service.   \n",
       "9               Had your mobile 11 months or more? U R entitled to Update to the latest colour mobiles with camera for Free! Call The Mobile Update Co FREE on 08002986030   \n",
       "4293                                                                                            Kit Strip - you have been billed 150p. Netcollex Ltd. PO Box 1013 IG11 OJA   \n",
       "1622                                  U have a secret admirer who is looking 2 make contact with U-find out who they R*reveal who thinks UR so special-call on 09058094599   \n",
       "4296                            thesmszone.com lets you send free anonymous and masked messages..im sending this message from there..do you see the potential for abuse???   \n",
       "709       4mths half price Orange line rental & latest camera phones 4 FREE. Had your phone 11mths+? Call MobilesDirect free on 08000938767 to update now! or2stoptxt T&Cs   \n",
       "2547                                                                 Text82228>> Get more ringtones, logos and games from www.txt82228.com. Questions: info@txt82228.co.uk   \n",
       "2412        I don't know u and u don't know me. Send CHAT to 86688 now and let's find each other! Only 150p/Msg rcvd. HG/Suite342/2Lands/Row/W1J6HL LDN. 18 years or over.   \n",
       "760                                                                       Romantic Paris. 2 nights, 2 flights from å£79 Book now 4 next year. Call 08704439680Ts&Cs apply.   \n",
       "4886                Todays Vodafone numbers ending with 4882 are selected to a receive a å£350 award. If your number matches call 09064019014 to receive your å£350 award.   \n",
       "2824        Congratulations - Thanks to a good friend U have WON the å£2,000 Xmas prize. 2 claim is easy, just call 08712103738 NOW! Only 10p per minute. BT-national-rate   \n",
       "762      Urgent Ur å£500 guaranteed award is still unclaimed! Call 09066368327 NOW closingdate04/09/02 claimcode M39M51 å£1.50pmmorefrommobile2Bremoved-MobyPOBox734LS27YF   \n",
       "1216                                                                                                                    You have 1 new voicemail. Please call 08719181513.   \n",
       "4384          Do you want a New Nokia 3510i Colour Phone Delivered Tomorrow? With 200 FREE minutes to any mobile + 100 FREE text + FREE camcorder Reply or Call 8000930705   \n",
       "1251                                                                                     Please CALL 08712402779 immediately as there is an urgent message waiting for you   \n",
       "1568          Today is ACCEPT DAY..U Accept me as? Brother Sister Lover Dear1 Best1 Clos1 Lvblefrnd Jstfrnd Cutefrnd Lifpartnr Belovd Swtheart Bstfrnd No rply means enemy   \n",
       "2802                                                                                                                                     FreeMsg>FAV XMAS TONES!Reply REAL   \n",
       "\n",
       "      y_true  y_pred  \n",
       "3227       1       0  \n",
       "3090       1       0  \n",
       "1779       1       0  \n",
       "4371       1       0  \n",
       "4947       1       0  \n",
       "5370       1       0  \n",
       "4901       1       0  \n",
       "1886       1       0  \n",
       "1273       1       0  \n",
       "528        1       0  \n",
       "787        1       0  \n",
       "1687       1       0  \n",
       "1892       1       0  \n",
       "3395       1       0  \n",
       "5526       1       0  \n",
       "2401       1       0  \n",
       "3776       1       0  \n",
       "750        1       0  \n",
       "4198       1       0  \n",
       "1624       1       0  \n",
       "8          1       0  \n",
       "4839       1       0  \n",
       "868        1       0  \n",
       "689        1       0  \n",
       "737        1       0  \n",
       "2988       1       0  \n",
       "2957       1       0  \n",
       "1136       1       0  \n",
       "5016       1       0  \n",
       "2943       1       0  \n",
       "...      ...     ...  \n",
       "610        1       0  \n",
       "3979       1       0  \n",
       "4247       1       0  \n",
       "3499       1       0  \n",
       "3583       1       0  \n",
       "4766       1       0  \n",
       "2289       1       0  \n",
       "3007       1       0  \n",
       "1068       1       0  \n",
       "2132       1       0  \n",
       "4046       1       0  \n",
       "1468       1       0  \n",
       "12         1       0  \n",
       "1698       1       0  \n",
       "9          1       0  \n",
       "4293       1       0  \n",
       "1622       1       0  \n",
       "4296       1       0  \n",
       "709        1       0  \n",
       "2547       1       0  \n",
       "2412       1       0  \n",
       "760        1       0  \n",
       "4886       1       0  \n",
       "2824       1       0  \n",
       "762        1       0  \n",
       "1216       1       0  \n",
       "4384       1       0  \n",
       "1251       1       0  \n",
       "1568       0       1  \n",
       "2802       1       0  \n",
       "\n",
       "[173 rows x 3 columns]"
      ]
     },
     "execution_count": 305,
     "metadata": {},
     "output_type": "execute_result"
    }
   ],
   "source": [
    "pd.set_option('max_colwidth',1000)\n",
    "X_test_doc.loc[X_test_doc['incorrect']==True,['text','y_true','y_pred']]"
   ]
  },
  {
   "cell_type": "code",
   "execution_count": 302,
   "metadata": {},
   "outputs": [],
   "source": []
  }
 ],
 "metadata": {
  "kernelspec": {
   "display_name": "Python 3",
   "language": "python",
   "name": "python3"
  },
  "language_info": {
   "codemirror_mode": {
    "name": "ipython",
    "version": 3
   },
   "file_extension": ".py",
   "mimetype": "text/x-python",
   "name": "python",
   "nbconvert_exporter": "python",
   "pygments_lexer": "ipython3",
   "version": "3.7.3"
  }
 },
 "nbformat": 4,
 "nbformat_minor": 2
}
