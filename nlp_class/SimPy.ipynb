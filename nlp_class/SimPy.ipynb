{
 "cells": [
  {
   "cell_type": "code",
   "execution_count": 2,
   "metadata": {},
   "outputs": [],
   "source": [
    "import simpy"
   ]
  },
  {
   "cell_type": "code",
   "execution_count": 11,
   "metadata": {},
   "outputs": [],
   "source": [
    "class Car(object):\n",
    "    def __init__(self,env):\n",
    "        self.env = env\n",
    "        # start the run process everytime an instance is created\n",
    "        self.action = env.process(self.run())\n",
    "        \n",
    "    def run(self):\n",
    "        while True:\n",
    "            print('Start parking and charging at %d' % self.env.now)\n",
    "            charge_duration = 5\n",
    "            # We yield the process that process() returns\n",
    "            # to wait for it to finish\n",
    "            try:\n",
    "                yield self.env.process(self.charge(charge_duration))\n",
    "            except simpy.Interrupt:\n",
    "                # When we received an interrupt, we stop charging and\n",
    "                # switch to the \"driving\" state\n",
    "                print('Was interrupted. Hope, the battery is full enough ...')\n",
    "                \n",
    "            print('Start driving at %d' % self.env.now)\n",
    "            trip_duration = 2\n",
    "            yield self.env.timeout(trip_duration)\n",
    "            \n",
    "    def charge(self, duration):\n",
    "        yield self.env.timeout(duration)\n",
    "        "
   ]
  },
  {
   "cell_type": "code",
   "execution_count": 13,
   "metadata": {},
   "outputs": [],
   "source": [
    "def driver(env,car):\n",
    "    yield env.timeout(3)\n",
    "    car.action.interrupt()"
   ]
  },
  {
   "cell_type": "code",
   "execution_count": 22,
   "metadata": {},
   "outputs": [],
   "source": [
    "def car(env, name, bcs, driving_time, charge_duration):\n",
    "    yield env.timeout(driving_time)\n",
    "    \n",
    "    print('%s arriving at %d' % (name, env.now))\n",
    "    with bcs.request() as req:\n",
    "        yield req\n",
    "        \n",
    "        print('%s starting to charge at %s' % (name, env.now))\n",
    "        yield env.timeout(charge_duration)\n",
    "        print('%s leaving the bcs at %s' % (name, env.now))"
   ]
  },
  {
   "cell_type": "code",
   "execution_count": 23,
   "metadata": {},
   "outputs": [],
   "source": [
    "env = simpy.Environment()\n",
    "bcs = simpy.Resource(env, capacity=2)"
   ]
  },
  {
   "cell_type": "code",
   "execution_count": 24,
   "metadata": {},
   "outputs": [],
   "source": [
    "for i in range(4):\n",
    "     env.process(car(env, 'Car %d' % i, bcs, i*2, 5))"
   ]
  },
  {
   "cell_type": "code",
   "execution_count": 25,
   "metadata": {},
   "outputs": [
    {
     "name": "stdout",
     "output_type": "stream",
     "text": [
      "Car 0 arriving at 0\n",
      "Car 0 starting to charge at 0\n",
      "Car 1 arriving at 2\n",
      "Car 1 starting to charge at 2\n",
      "Car 2 arriving at 4\n",
      "Car 0 leaving the bcs at 5\n",
      "Car 2 starting to charge at 5\n",
      "Car 3 arriving at 6\n",
      "Car 1 leaving the bcs at 7\n",
      "Car 3 starting to charge at 7\n",
      "Car 2 leaving the bcs at 10\n",
      "Car 3 leaving the bcs at 12\n"
     ]
    }
   ],
   "source": [
    "env.run()"
   ]
  },
  {
   "cell_type": "code",
   "execution_count": null,
   "metadata": {},
   "outputs": [],
   "source": []
  }
 ],
 "metadata": {
  "kernelspec": {
   "display_name": "Python 3",
   "language": "python",
   "name": "python3"
  },
  "language_info": {
   "codemirror_mode": {
    "name": "ipython",
    "version": 3
   },
   "file_extension": ".py",
   "mimetype": "text/x-python",
   "name": "python",
   "nbconvert_exporter": "python",
   "pygments_lexer": "ipython3",
   "version": "3.7.3"
  }
 },
 "nbformat": 4,
 "nbformat_minor": 2
}
